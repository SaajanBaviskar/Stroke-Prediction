{
  "nbformat": 4,
  "nbformat_minor": 0,
  "metadata": {
    "colab": {
      "name": "StrokePrediction.ipynb",
      "provenance": [],
      "collapsed_sections": []
    },
    "kernelspec": {
      "name": "python3",
      "display_name": "Python 3"
    }
  },
  "cells": [
    {
      "cell_type": "code",
      "metadata": {
        "id": "QCvch4H35smy"
      },
      "source": [
        "import pandas as pd"
      ],
      "execution_count": null,
      "outputs": []
    },
    {
      "cell_type": "code",
      "metadata": {
        "id": "GGak7vwt54uk"
      },
      "source": [
        "data=pd.read_csv(\"/content/drive/MyDrive/healthcare-dataset-stroke-data.csv\")"
      ],
      "execution_count": null,
      "outputs": []
    },
    {
      "cell_type": "code",
      "metadata": {
        "colab": {
          "base_uri": "https://localhost:8080/",
          "height": 204
        },
        "id": "gW2y4AGY6lXb",
        "outputId": "fea683c1-861f-4b4a-fbff-9742b1e3407e"
      },
      "source": [
        "data.head()"
      ],
      "execution_count": null,
      "outputs": [
        {
          "output_type": "execute_result",
          "data": {
            "text/html": [
              "<div>\n",
              "<style scoped>\n",
              "    .dataframe tbody tr th:only-of-type {\n",
              "        vertical-align: middle;\n",
              "    }\n",
              "\n",
              "    .dataframe tbody tr th {\n",
              "        vertical-align: top;\n",
              "    }\n",
              "\n",
              "    .dataframe thead th {\n",
              "        text-align: right;\n",
              "    }\n",
              "</style>\n",
              "<table border=\"1\" class=\"dataframe\">\n",
              "  <thead>\n",
              "    <tr style=\"text-align: right;\">\n",
              "      <th></th>\n",
              "      <th>id</th>\n",
              "      <th>gender</th>\n",
              "      <th>age</th>\n",
              "      <th>hypertension</th>\n",
              "      <th>heart_disease</th>\n",
              "      <th>ever_married</th>\n",
              "      <th>work_type</th>\n",
              "      <th>Residence_type</th>\n",
              "      <th>avg_glucose_level</th>\n",
              "      <th>bmi</th>\n",
              "      <th>smoking_status</th>\n",
              "      <th>stroke</th>\n",
              "    </tr>\n",
              "  </thead>\n",
              "  <tbody>\n",
              "    <tr>\n",
              "      <th>0</th>\n",
              "      <td>9046</td>\n",
              "      <td>Male</td>\n",
              "      <td>67.0</td>\n",
              "      <td>0</td>\n",
              "      <td>1</td>\n",
              "      <td>Yes</td>\n",
              "      <td>Private</td>\n",
              "      <td>Urban</td>\n",
              "      <td>228.69</td>\n",
              "      <td>36.6</td>\n",
              "      <td>formerly smoked</td>\n",
              "      <td>1</td>\n",
              "    </tr>\n",
              "    <tr>\n",
              "      <th>1</th>\n",
              "      <td>51676</td>\n",
              "      <td>Female</td>\n",
              "      <td>61.0</td>\n",
              "      <td>0</td>\n",
              "      <td>0</td>\n",
              "      <td>Yes</td>\n",
              "      <td>Self-employed</td>\n",
              "      <td>Rural</td>\n",
              "      <td>202.21</td>\n",
              "      <td>NaN</td>\n",
              "      <td>never smoked</td>\n",
              "      <td>1</td>\n",
              "    </tr>\n",
              "    <tr>\n",
              "      <th>2</th>\n",
              "      <td>31112</td>\n",
              "      <td>Male</td>\n",
              "      <td>80.0</td>\n",
              "      <td>0</td>\n",
              "      <td>1</td>\n",
              "      <td>Yes</td>\n",
              "      <td>Private</td>\n",
              "      <td>Rural</td>\n",
              "      <td>105.92</td>\n",
              "      <td>32.5</td>\n",
              "      <td>never smoked</td>\n",
              "      <td>1</td>\n",
              "    </tr>\n",
              "    <tr>\n",
              "      <th>3</th>\n",
              "      <td>60182</td>\n",
              "      <td>Female</td>\n",
              "      <td>49.0</td>\n",
              "      <td>0</td>\n",
              "      <td>0</td>\n",
              "      <td>Yes</td>\n",
              "      <td>Private</td>\n",
              "      <td>Urban</td>\n",
              "      <td>171.23</td>\n",
              "      <td>34.4</td>\n",
              "      <td>smokes</td>\n",
              "      <td>1</td>\n",
              "    </tr>\n",
              "    <tr>\n",
              "      <th>4</th>\n",
              "      <td>1665</td>\n",
              "      <td>Female</td>\n",
              "      <td>79.0</td>\n",
              "      <td>1</td>\n",
              "      <td>0</td>\n",
              "      <td>Yes</td>\n",
              "      <td>Self-employed</td>\n",
              "      <td>Rural</td>\n",
              "      <td>174.12</td>\n",
              "      <td>24.0</td>\n",
              "      <td>never smoked</td>\n",
              "      <td>1</td>\n",
              "    </tr>\n",
              "  </tbody>\n",
              "</table>\n",
              "</div>"
            ],
            "text/plain": [
              "      id  gender   age  ...   bmi   smoking_status stroke\n",
              "0   9046    Male  67.0  ...  36.6  formerly smoked      1\n",
              "1  51676  Female  61.0  ...   NaN     never smoked      1\n",
              "2  31112    Male  80.0  ...  32.5     never smoked      1\n",
              "3  60182  Female  49.0  ...  34.4           smokes      1\n",
              "4   1665  Female  79.0  ...  24.0     never smoked      1\n",
              "\n",
              "[5 rows x 12 columns]"
            ]
          },
          "metadata": {
            "tags": []
          },
          "execution_count": 21
        }
      ]
    },
    {
      "cell_type": "code",
      "metadata": {
        "colab": {
          "base_uri": "https://localhost:8080/"
        },
        "id": "cuL91-ym_2df",
        "outputId": "2cab1816-96f7-412c-fd59-34350b8207f2"
      },
      "source": [
        "data.info()"
      ],
      "execution_count": null,
      "outputs": [
        {
          "output_type": "stream",
          "text": [
            "<class 'pandas.core.frame.DataFrame'>\n",
            "RangeIndex: 5110 entries, 0 to 5109\n",
            "Data columns (total 12 columns):\n",
            " #   Column             Non-Null Count  Dtype  \n",
            "---  ------             --------------  -----  \n",
            " 0   id                 5110 non-null   int64  \n",
            " 1   gender             5110 non-null   object \n",
            " 2   age                5110 non-null   float64\n",
            " 3   hypertension       5110 non-null   int64  \n",
            " 4   heart_disease      5110 non-null   int64  \n",
            " 5   ever_married       5110 non-null   object \n",
            " 6   work_type          5110 non-null   object \n",
            " 7   Residence_type     5110 non-null   object \n",
            " 8   avg_glucose_level  5110 non-null   float64\n",
            " 9   bmi                4909 non-null   float64\n",
            " 10  smoking_status     5110 non-null   object \n",
            " 11  stroke             5110 non-null   int64  \n",
            "dtypes: float64(3), int64(4), object(5)\n",
            "memory usage: 479.2+ KB\n"
          ],
          "name": "stdout"
        }
      ]
    },
    {
      "cell_type": "code",
      "metadata": {
        "colab": {
          "base_uri": "https://localhost:8080/"
        },
        "id": "Wei8Xcex6oZE",
        "outputId": "20a7943e-cb3a-40a8-95f9-861de1c90237"
      },
      "source": [
        "data.isnull().sum()"
      ],
      "execution_count": null,
      "outputs": [
        {
          "output_type": "execute_result",
          "data": {
            "text/plain": [
              "id                     0\n",
              "gender                 0\n",
              "age                    0\n",
              "hypertension           0\n",
              "heart_disease          0\n",
              "ever_married           0\n",
              "work_type              0\n",
              "Residence_type         0\n",
              "avg_glucose_level      0\n",
              "bmi                  201\n",
              "smoking_status         0\n",
              "stroke                 0\n",
              "dtype: int64"
            ]
          },
          "metadata": {
            "tags": []
          },
          "execution_count": 23
        }
      ]
    },
    {
      "cell_type": "code",
      "metadata": {
        "id": "prDCoqkt6sA3"
      },
      "source": [
        "data= data.dropna(subset=['bmi'],axis='rows')"
      ],
      "execution_count": null,
      "outputs": []
    },
    {
      "cell_type": "code",
      "metadata": {
        "colab": {
          "base_uri": "https://localhost:8080/"
        },
        "id": "6zeEzL1zA2dL",
        "outputId": "509c0739-b4c5-4255-c5e9-208847f0117d"
      },
      "source": [
        "data.isnull().sum()"
      ],
      "execution_count": null,
      "outputs": [
        {
          "output_type": "execute_result",
          "data": {
            "text/plain": [
              "id                   0\n",
              "gender               0\n",
              "age                  0\n",
              "hypertension         0\n",
              "heart_disease        0\n",
              "ever_married         0\n",
              "work_type            0\n",
              "Residence_type       0\n",
              "avg_glucose_level    0\n",
              "bmi                  0\n",
              "smoking_status       0\n",
              "stroke               0\n",
              "dtype: int64"
            ]
          },
          "metadata": {
            "tags": []
          },
          "execution_count": 25
        }
      ]
    },
    {
      "cell_type": "code",
      "metadata": {
        "colab": {
          "base_uri": "https://localhost:8080/"
        },
        "id": "zsuY55Nwhfud",
        "outputId": "c323672d-4a98-4cf5-f1cb-aa7c62436c8b"
      },
      "source": [
        "data.info()"
      ],
      "execution_count": null,
      "outputs": [
        {
          "output_type": "stream",
          "text": [
            "<class 'pandas.core.frame.DataFrame'>\n",
            "Int64Index: 4909 entries, 0 to 5109\n",
            "Data columns (total 12 columns):\n",
            " #   Column             Non-Null Count  Dtype  \n",
            "---  ------             --------------  -----  \n",
            " 0   id                 4909 non-null   int64  \n",
            " 1   gender             4909 non-null   object \n",
            " 2   age                4909 non-null   float64\n",
            " 3   hypertension       4909 non-null   int64  \n",
            " 4   heart_disease      4909 non-null   int64  \n",
            " 5   ever_married       4909 non-null   object \n",
            " 6   work_type          4909 non-null   object \n",
            " 7   Residence_type     4909 non-null   object \n",
            " 8   avg_glucose_level  4909 non-null   float64\n",
            " 9   bmi                4909 non-null   float64\n",
            " 10  smoking_status     4909 non-null   object \n",
            " 11  stroke             4909 non-null   int64  \n",
            "dtypes: float64(3), int64(4), object(5)\n",
            "memory usage: 498.6+ KB\n"
          ],
          "name": "stdout"
        }
      ]
    },
    {
      "cell_type": "code",
      "metadata": {
        "colab": {
          "base_uri": "https://localhost:8080/"
        },
        "id": "hbsh698VXMSQ",
        "outputId": "9281b4c3-f88a-40d7-b5d2-19f909994e56"
      },
      "source": [
        "from sklearn import preprocessing\n",
        "label_encoder = preprocessing.LabelEncoder()\n",
        "data['gender'] = label_encoder.fit_transform(data['gender'])\n",
        "data['gender'].unique()\n",
        "\n",
        "data['ever_married'] = label_encoder.fit_transform(data['ever_married'])\n",
        "data['ever_married'].unique()\n",
        "\n",
        "data['work_type'] = label_encoder.fit_transform(data['work_type'])\n",
        "data['work_type'].unique()\n",
        "\n",
        "data['Residence_type'] = label_encoder.fit_transform(data['Residence_type'])\n",
        "data['Residence_type'].unique()\n",
        "\n",
        "data['smoking_status'] = label_encoder.fit_transform(data['work_type'])\n",
        "data['smoking_status'].unique()"
      ],
      "execution_count": null,
      "outputs": [
        {
          "output_type": "execute_result",
          "data": {
            "text/plain": [
              "array([2, 3, 0, 4, 1])"
            ]
          },
          "metadata": {
            "tags": []
          },
          "execution_count": 35
        }
      ]
    },
    {
      "cell_type": "code",
      "metadata": {
        "colab": {
          "base_uri": "https://localhost:8080/"
        },
        "id": "zFsiCZZticqv",
        "outputId": "ee0546b4-344f-4955-b766-38e03cd18edc"
      },
      "source": [
        "data.info()"
      ],
      "execution_count": null,
      "outputs": [
        {
          "output_type": "stream",
          "text": [
            "<class 'pandas.core.frame.DataFrame'>\n",
            "Int64Index: 4909 entries, 0 to 5109\n",
            "Data columns (total 12 columns):\n",
            " #   Column             Non-Null Count  Dtype  \n",
            "---  ------             --------------  -----  \n",
            " 0   id                 4909 non-null   int64  \n",
            " 1   gender             4909 non-null   int64  \n",
            " 2   age                4909 non-null   float64\n",
            " 3   hypertension       4909 non-null   int64  \n",
            " 4   heart_disease      4909 non-null   int64  \n",
            " 5   ever_married       4909 non-null   int64  \n",
            " 6   work_type          4909 non-null   int64  \n",
            " 7   Residence_type     4909 non-null   int64  \n",
            " 8   avg_glucose_level  4909 non-null   float64\n",
            " 9   bmi                4909 non-null   float64\n",
            " 10  smoking_status     4909 non-null   int64  \n",
            " 11  stroke             4909 non-null   int64  \n",
            "dtypes: float64(3), int64(9)\n",
            "memory usage: 498.6 KB\n"
          ],
          "name": "stdout"
        }
      ]
    },
    {
      "cell_type": "code",
      "metadata": {
        "id": "rW9zlxKYTj8C"
      },
      "source": [
        "df=data.values\n",
        "# split into input (X) and output (Y) variables\n",
        "X = df[:,0:11].astype(float)\n",
        "Y = df[:,11]\n"
      ],
      "execution_count": null,
      "outputs": []
    },
    {
      "cell_type": "code",
      "metadata": {
        "colab": {
          "base_uri": "https://localhost:8080/"
        },
        "id": "0RjBd-L2n-WT",
        "outputId": "65824d69-7330-4f4c-c93f-72cdbf4d5fdb"
      },
      "source": [
        "X.shape"
      ],
      "execution_count": null,
      "outputs": [
        {
          "output_type": "execute_result",
          "data": {
            "text/plain": [
              "(4909, 11)"
            ]
          },
          "metadata": {
            "tags": []
          },
          "execution_count": 50
        }
      ]
    },
    {
      "cell_type": "code",
      "metadata": {
        "colab": {
          "base_uri": "https://localhost:8080/"
        },
        "id": "YNPcbDLVoFep",
        "outputId": "4a628bf0-71b7-4e21-aeb7-2c55e9bbaf40"
      },
      "source": [
        "Y.shape"
      ],
      "execution_count": null,
      "outputs": [
        {
          "output_type": "execute_result",
          "data": {
            "text/plain": [
              "(4909,)"
            ]
          },
          "metadata": {
            "tags": []
          },
          "execution_count": 51
        }
      ]
    },
    {
      "cell_type": "code",
      "metadata": {
        "id": "eFHNkcZmA50f"
      },
      "source": [
        "from sklearn.model_selection import train_test_split\n",
        "X_train, X_test, y_train, y_test = train_test_split( X,Y,test_size=0.33)"
      ],
      "execution_count": null,
      "outputs": []
    },
    {
      "cell_type": "code",
      "metadata": {
        "id": "0A4ndBqXmE3Z"
      },
      "source": [
        ""
      ],
      "execution_count": null,
      "outputs": []
    },
    {
      "cell_type": "code",
      "metadata": {
        "colab": {
          "base_uri": "https://localhost:8080/",
          "height": 35
        },
        "id": "DRKJKGbwTSMW",
        "outputId": "6391367f-cb4a-478a-b01d-a0cf8298afaf"
      },
      "source": [
        "'''X = df_final.drop(['left'],axis=1).values\n",
        "y = df_final['left'].values '''"
      ],
      "execution_count": null,
      "outputs": [
        {
          "output_type": "execute_result",
          "data": {
            "application/vnd.google.colaboratory.intrinsic+json": {
              "type": "string"
            },
            "text/plain": [
              "\"X = df_final.drop(['left'],axis=1).values\\ny = df_final['left'].values \""
            ]
          },
          "metadata": {
            "tags": []
          },
          "execution_count": 45
        }
      ]
    },
    {
      "cell_type": "code",
      "metadata": {
        "colab": {
          "base_uri": "https://localhost:8080/"
        },
        "id": "z5Ce7RZHkHOL",
        "outputId": "c50a1c68-52c1-45cb-877b-4a1fb5c00d00"
      },
      "source": [
        "import tensorflow as tf\n",
        "print(tf.__version__)"
      ],
      "execution_count": null,
      "outputs": [
        {
          "output_type": "stream",
          "text": [
            "2.4.1\n"
          ],
          "name": "stdout"
        }
      ]
    },
    {
      "cell_type": "code",
      "metadata": {
        "id": "Lh6AjfsslxFx"
      },
      "source": [
        "model = tf.keras.models.Sequential([\n",
        "                                    tf.keras.layers.Dense(128, input_shape=(2,), activation='relu'),\n",
        "                                    tf.keras.layers.Dense(1,activation='sigmoid')\n",
        "])"
      ],
      "execution_count": null,
      "outputs": []
    },
    {
      "cell_type": "code",
      "metadata": {
        "colab": {
          "base_uri": "https://localhost:8080/"
        },
        "id": "0gK-fgq4Io_z",
        "outputId": "50625d08-7160-4d5f-e21f-abb3672fbb0f"
      },
      "source": [
        "X_train.shape"
      ],
      "execution_count": null,
      "outputs": [
        {
          "output_type": "execute_result",
          "data": {
            "text/plain": [
              "(3289, 11)"
            ]
          },
          "metadata": {
            "tags": []
          },
          "execution_count": 57
        }
      ]
    },
    {
      "cell_type": "code",
      "metadata": {
        "id": "2cMSKx0MH-RY"
      },
      "source": [
        "from keras.models import Sequential\n",
        "from keras.layers import Dense, Dropout\n",
        "# create model\n",
        "model = Sequential()\n",
        "model.add(Dense(128, input_dim=11, activation='relu'))\n",
        "model.add(Dense(1, activation='sigmoid'))\n",
        "# Compile model\n",
        "model.compile(loss='binary_crossentropy', optimizer='adam', metrics=['accuracy'])"
      ],
      "execution_count": null,
      "outputs": []
    },
    {
      "cell_type": "code",
      "metadata": {
        "colab": {
          "base_uri": "https://localhost:8080/"
        },
        "id": "EOWSRn9cl9QR",
        "outputId": "e8ab9b3c-25b6-4c74-cfbc-b301fc1dcc98"
      },
      "source": [
        "r = model.fit(X_train, y_train, epochs=100)"
      ],
      "execution_count": null,
      "outputs": [
        {
          "output_type": "stream",
          "text": [
            "Epoch 1/100\n",
            "103/103 [==============================] - 1s 1ms/step - loss: 90.6612 - accuracy: 0.9111\n",
            "Epoch 2/100\n",
            "103/103 [==============================] - 0s 1ms/step - loss: 28.9021 - accuracy: 0.9171\n",
            "Epoch 3/100\n",
            "103/103 [==============================] - 0s 1ms/step - loss: 27.3549 - accuracy: 0.8906\n",
            "Epoch 4/100\n",
            "103/103 [==============================] - 0s 1ms/step - loss: 20.3148 - accuracy: 0.8893\n",
            "Epoch 5/100\n",
            "103/103 [==============================] - 0s 1ms/step - loss: 22.2726 - accuracy: 0.9017\n",
            "Epoch 6/100\n",
            "103/103 [==============================] - 0s 1ms/step - loss: 19.1650 - accuracy: 0.9173\n",
            "Epoch 7/100\n",
            "103/103 [==============================] - 0s 1ms/step - loss: 19.2914 - accuracy: 0.9229\n",
            "Epoch 8/100\n",
            "103/103 [==============================] - 0s 1ms/step - loss: 16.3377 - accuracy: 0.8992\n",
            "Epoch 9/100\n",
            "103/103 [==============================] - 0s 1ms/step - loss: 19.9665 - accuracy: 0.9163\n",
            "Epoch 10/100\n",
            "103/103 [==============================] - 0s 1ms/step - loss: 26.2426 - accuracy: 0.8862\n",
            "Epoch 11/100\n",
            "103/103 [==============================] - 0s 1ms/step - loss: 20.3061 - accuracy: 0.9122\n",
            "Epoch 12/100\n",
            "103/103 [==============================] - 0s 1ms/step - loss: 13.5748 - accuracy: 0.8963\n",
            "Epoch 13/100\n",
            "103/103 [==============================] - 0s 1ms/step - loss: 23.5419 - accuracy: 0.9195\n",
            "Epoch 14/100\n",
            "103/103 [==============================] - 0s 1ms/step - loss: 19.7475 - accuracy: 0.8867\n",
            "Epoch 15/100\n",
            "103/103 [==============================] - 0s 1ms/step - loss: 22.0765 - accuracy: 0.9086\n",
            "Epoch 16/100\n",
            "103/103 [==============================] - 0s 1ms/step - loss: 26.9305 - accuracy: 0.9148\n",
            "Epoch 17/100\n",
            "103/103 [==============================] - 0s 1ms/step - loss: 21.7763 - accuracy: 0.8958\n",
            "Epoch 18/100\n",
            "103/103 [==============================] - 0s 1ms/step - loss: 15.8643 - accuracy: 0.8933\n",
            "Epoch 19/100\n",
            "103/103 [==============================] - 0s 1ms/step - loss: 22.9274 - accuracy: 0.9112\n",
            "Epoch 20/100\n",
            "103/103 [==============================] - 0s 1ms/step - loss: 12.9939 - accuracy: 0.9035\n",
            "Epoch 21/100\n",
            "103/103 [==============================] - 0s 1ms/step - loss: 20.7903 - accuracy: 0.9038\n",
            "Epoch 22/100\n",
            "103/103 [==============================] - 0s 1ms/step - loss: 25.6327 - accuracy: 0.8891\n",
            "Epoch 23/100\n",
            "103/103 [==============================] - 0s 1ms/step - loss: 21.0381 - accuracy: 0.8913\n",
            "Epoch 24/100\n",
            "103/103 [==============================] - 0s 1ms/step - loss: 16.7762 - accuracy: 0.9011\n",
            "Epoch 25/100\n",
            "103/103 [==============================] - 0s 1ms/step - loss: 22.4722 - accuracy: 0.9321\n",
            "Epoch 26/100\n",
            "103/103 [==============================] - 0s 1ms/step - loss: 21.3567 - accuracy: 0.9220\n",
            "Epoch 27/100\n",
            "103/103 [==============================] - 0s 1ms/step - loss: 9.8165 - accuracy: 0.9114\n",
            "Epoch 28/100\n",
            "103/103 [==============================] - 0s 1ms/step - loss: 25.8815 - accuracy: 0.9253\n",
            "Epoch 29/100\n",
            "103/103 [==============================] - 0s 1ms/step - loss: 25.5545 - accuracy: 0.8865\n",
            "Epoch 30/100\n",
            "103/103 [==============================] - 0s 1ms/step - loss: 22.3403 - accuracy: 0.9102\n",
            "Epoch 31/100\n",
            "103/103 [==============================] - 0s 1ms/step - loss: 27.8872 - accuracy: 0.9335\n",
            "Epoch 32/100\n",
            "103/103 [==============================] - 0s 1ms/step - loss: 18.5488 - accuracy: 0.9105\n",
            "Epoch 33/100\n",
            "103/103 [==============================] - 0s 1ms/step - loss: 23.2517 - accuracy: 0.9213\n",
            "Epoch 34/100\n",
            "103/103 [==============================] - 0s 1ms/step - loss: 15.4532 - accuracy: 0.9040\n",
            "Epoch 35/100\n",
            "103/103 [==============================] - 0s 1ms/step - loss: 6.4867 - accuracy: 0.9103\n",
            "Epoch 36/100\n",
            "103/103 [==============================] - 0s 1ms/step - loss: 9.7413 - accuracy: 0.8907\n",
            "Epoch 37/100\n",
            "103/103 [==============================] - 0s 1ms/step - loss: 25.1431 - accuracy: 0.9237\n",
            "Epoch 38/100\n",
            "103/103 [==============================] - 0s 1ms/step - loss: 14.8910 - accuracy: 0.8867\n",
            "Epoch 39/100\n",
            "103/103 [==============================] - 0s 1ms/step - loss: 29.8547 - accuracy: 0.9265\n",
            "Epoch 40/100\n",
            "103/103 [==============================] - 0s 1ms/step - loss: 9.7875 - accuracy: 0.9143\n",
            "Epoch 41/100\n",
            "103/103 [==============================] - 0s 1ms/step - loss: 25.4193 - accuracy: 0.8866\n",
            "Epoch 42/100\n",
            "103/103 [==============================] - 0s 1ms/step - loss: 21.0203 - accuracy: 0.8987\n",
            "Epoch 43/100\n",
            "103/103 [==============================] - 0s 1ms/step - loss: 13.2166 - accuracy: 0.9227\n",
            "Epoch 44/100\n",
            "103/103 [==============================] - 0s 1ms/step - loss: 14.7094 - accuracy: 0.9081\n",
            "Epoch 45/100\n",
            "103/103 [==============================] - 0s 1ms/step - loss: 15.5280 - accuracy: 0.9171\n",
            "Epoch 46/100\n",
            "103/103 [==============================] - 0s 2ms/step - loss: 15.0642 - accuracy: 0.8958\n",
            "Epoch 47/100\n",
            "103/103 [==============================] - 0s 1ms/step - loss: 14.5835 - accuracy: 0.9000\n",
            "Epoch 48/100\n",
            "103/103 [==============================] - 0s 1ms/step - loss: 23.8238 - accuracy: 0.9029\n",
            "Epoch 49/100\n",
            "103/103 [==============================] - 0s 1ms/step - loss: 13.3440 - accuracy: 0.9280\n",
            "Epoch 50/100\n",
            "103/103 [==============================] - 0s 1ms/step - loss: 11.5431 - accuracy: 0.9208\n",
            "Epoch 51/100\n",
            "103/103 [==============================] - 0s 1ms/step - loss: 22.7817 - accuracy: 0.9226\n",
            "Epoch 52/100\n",
            "103/103 [==============================] - 0s 1ms/step - loss: 19.3613 - accuracy: 0.9305\n",
            "Epoch 53/100\n",
            "103/103 [==============================] - 0s 1ms/step - loss: 14.6010 - accuracy: 0.9199\n",
            "Epoch 54/100\n",
            "103/103 [==============================] - 0s 1ms/step - loss: 29.4009 - accuracy: 0.8765\n",
            "Epoch 55/100\n",
            "103/103 [==============================] - 0s 1ms/step - loss: 15.2748 - accuracy: 0.8942\n",
            "Epoch 56/100\n",
            "103/103 [==============================] - 0s 1ms/step - loss: 11.1356 - accuracy: 0.9067\n",
            "Epoch 57/100\n",
            "103/103 [==============================] - 0s 1ms/step - loss: 15.6861 - accuracy: 0.9281\n",
            "Epoch 58/100\n",
            "103/103 [==============================] - 0s 1ms/step - loss: 37.4584 - accuracy: 0.9289\n",
            "Epoch 59/100\n",
            "103/103 [==============================] - 0s 1ms/step - loss: 17.4339 - accuracy: 0.9234\n",
            "Epoch 60/100\n",
            "103/103 [==============================] - 0s 1ms/step - loss: 16.3578 - accuracy: 0.9102\n",
            "Epoch 61/100\n",
            "103/103 [==============================] - 0s 1ms/step - loss: 19.4055 - accuracy: 0.9211\n",
            "Epoch 62/100\n",
            "103/103 [==============================] - 0s 1ms/step - loss: 20.8513 - accuracy: 0.9117\n",
            "Epoch 63/100\n",
            "103/103 [==============================] - 0s 1ms/step - loss: 13.4124 - accuracy: 0.9068\n",
            "Epoch 64/100\n",
            "103/103 [==============================] - 0s 1ms/step - loss: 17.8920 - accuracy: 0.9233\n",
            "Epoch 65/100\n",
            "103/103 [==============================] - 0s 1ms/step - loss: 16.1460 - accuracy: 0.9196\n",
            "Epoch 66/100\n",
            "103/103 [==============================] - 0s 1ms/step - loss: 10.5162 - accuracy: 0.9251\n",
            "Epoch 67/100\n",
            "103/103 [==============================] - 0s 1ms/step - loss: 26.2065 - accuracy: 0.9166\n",
            "Epoch 68/100\n",
            "103/103 [==============================] - 0s 1ms/step - loss: 5.0010 - accuracy: 0.9035\n",
            "Epoch 69/100\n",
            "103/103 [==============================] - 0s 1ms/step - loss: 12.4127 - accuracy: 0.8989\n",
            "Epoch 70/100\n",
            "103/103 [==============================] - 0s 1ms/step - loss: 18.6665 - accuracy: 0.8960\n",
            "Epoch 71/100\n",
            "103/103 [==============================] - 0s 1ms/step - loss: 17.0396 - accuracy: 0.9078\n",
            "Epoch 72/100\n",
            "103/103 [==============================] - 0s 1ms/step - loss: 13.9647 - accuracy: 0.9194\n",
            "Epoch 73/100\n",
            "103/103 [==============================] - 0s 1ms/step - loss: 10.2311 - accuracy: 0.9136\n",
            "Epoch 74/100\n",
            "103/103 [==============================] - 0s 1ms/step - loss: 14.1770 - accuracy: 0.9111\n",
            "Epoch 75/100\n",
            "103/103 [==============================] - 0s 1ms/step - loss: 19.8715 - accuracy: 0.9387\n",
            "Epoch 76/100\n",
            "103/103 [==============================] - 0s 1ms/step - loss: 8.6393 - accuracy: 0.9257\n",
            "Epoch 77/100\n",
            "103/103 [==============================] - 0s 1ms/step - loss: 10.9774 - accuracy: 0.9055\n",
            "Epoch 78/100\n",
            "103/103 [==============================] - 0s 1ms/step - loss: 14.0540 - accuracy: 0.9040\n",
            "Epoch 79/100\n",
            "103/103 [==============================] - 0s 1ms/step - loss: 11.9541 - accuracy: 0.9275\n",
            "Epoch 80/100\n",
            "103/103 [==============================] - 0s 1ms/step - loss: 13.9867 - accuracy: 0.9136\n",
            "Epoch 81/100\n",
            "103/103 [==============================] - 0s 1ms/step - loss: 12.2380 - accuracy: 0.9089\n",
            "Epoch 82/100\n",
            "103/103 [==============================] - 0s 1ms/step - loss: 19.6530 - accuracy: 0.9344\n",
            "Epoch 83/100\n",
            "103/103 [==============================] - 0s 1ms/step - loss: 12.6873 - accuracy: 0.9113\n",
            "Epoch 84/100\n",
            "103/103 [==============================] - 0s 1ms/step - loss: 17.4622 - accuracy: 0.9152\n",
            "Epoch 85/100\n",
            "103/103 [==============================] - 0s 1ms/step - loss: 10.9112 - accuracy: 0.9306\n",
            "Epoch 86/100\n",
            "103/103 [==============================] - 0s 1ms/step - loss: 18.2770 - accuracy: 0.9254\n",
            "Epoch 87/100\n",
            "103/103 [==============================] - 0s 1ms/step - loss: 16.6841 - accuracy: 0.9349\n",
            "Epoch 88/100\n",
            "103/103 [==============================] - 0s 1ms/step - loss: 11.0992 - accuracy: 0.9269\n",
            "Epoch 89/100\n",
            "103/103 [==============================] - 0s 1ms/step - loss: 22.1989 - accuracy: 0.9431\n",
            "Epoch 90/100\n",
            "103/103 [==============================] - 0s 1ms/step - loss: 7.0816 - accuracy: 0.9229\n",
            "Epoch 91/100\n",
            "103/103 [==============================] - 0s 1ms/step - loss: 5.9217 - accuracy: 0.9051\n",
            "Epoch 92/100\n",
            "103/103 [==============================] - 0s 1ms/step - loss: 17.0680 - accuracy: 0.9155\n",
            "Epoch 93/100\n",
            "103/103 [==============================] - 0s 1ms/step - loss: 11.5789 - accuracy: 0.9199\n",
            "Epoch 94/100\n",
            "103/103 [==============================] - 0s 1ms/step - loss: 11.1245 - accuracy: 0.9268\n",
            "Epoch 95/100\n",
            "103/103 [==============================] - 0s 1ms/step - loss: 14.2912 - accuracy: 0.9098\n",
            "Epoch 96/100\n",
            "103/103 [==============================] - 0s 1ms/step - loss: 7.1414 - accuracy: 0.9027\n",
            "Epoch 97/100\n",
            "103/103 [==============================] - 0s 1ms/step - loss: 7.3363 - accuracy: 0.9325\n",
            "Epoch 98/100\n",
            "103/103 [==============================] - 0s 1ms/step - loss: 11.4058 - accuracy: 0.9214\n",
            "Epoch 99/100\n",
            "103/103 [==============================] - 0s 1ms/step - loss: 18.2934 - accuracy: 0.9219\n",
            "Epoch 100/100\n",
            "103/103 [==============================] - 0s 1ms/step - loss: 13.7000 - accuracy: 0.9173\n"
          ],
          "name": "stdout"
        }
      ]
    },
    {
      "cell_type": "code",
      "metadata": {
        "colab": {
          "base_uri": "https://localhost:8080/"
        },
        "id": "nVJK29tfmYjq",
        "outputId": "6ab03cd0-20e7-4919-b125-54852256e47c"
      },
      "source": [
        "!pip install keras_sequential_ascii"
      ],
      "execution_count": null,
      "outputs": [
        {
          "output_type": "stream",
          "text": [
            "Collecting keras_sequential_ascii\n",
            "  Downloading https://files.pythonhosted.org/packages/2d/a4/806e3ed5d7ac7463e2fae77e09ccccc88c78266b248fb637e4efa4f65ec0/keras_sequential_ascii-0.1.1.tar.gz\n",
            "Requirement already satisfied: keras in /usr/local/lib/python3.7/dist-packages (from keras_sequential_ascii) (2.4.3)\n",
            "Requirement already satisfied: h5py in /usr/local/lib/python3.7/dist-packages (from keras->keras_sequential_ascii) (2.10.0)\n",
            "Requirement already satisfied: pyyaml in /usr/local/lib/python3.7/dist-packages (from keras->keras_sequential_ascii) (3.13)\n",
            "Requirement already satisfied: numpy>=1.9.1 in /usr/local/lib/python3.7/dist-packages (from keras->keras_sequential_ascii) (1.19.5)\n",
            "Requirement already satisfied: scipy>=0.14 in /usr/local/lib/python3.7/dist-packages (from keras->keras_sequential_ascii) (1.4.1)\n",
            "Requirement already satisfied: six in /usr/local/lib/python3.7/dist-packages (from h5py->keras->keras_sequential_ascii) (1.15.0)\n",
            "Building wheels for collected packages: keras-sequential-ascii\n",
            "  Building wheel for keras-sequential-ascii (setup.py) ... \u001b[?25l\u001b[?25hdone\n",
            "  Created wheel for keras-sequential-ascii: filename=keras_sequential_ascii-0.1.1-cp37-none-any.whl size=3062 sha256=9db76a46b001ffc25a7c668d682f148a821f41ce6a264fce47db78790e9aed64\n",
            "  Stored in directory: /root/.cache/pip/wheels/f5/8d/81/912666dff82a923ce423a7e797cd75f54271c7031512cdb282\n",
            "Successfully built keras-sequential-ascii\n",
            "Installing collected packages: keras-sequential-ascii\n",
            "Successfully installed keras-sequential-ascii-0.1.1\n"
          ],
          "name": "stdout"
        }
      ]
    },
    {
      "cell_type": "code",
      "metadata": {
        "colab": {
          "base_uri": "https://localhost:8080/"
        },
        "id": "-lju7YyZI5Xm",
        "outputId": "0c34c998-23e3-4ffd-b647-8d7b3116876c"
      },
      "source": [
        "from keras_sequential_ascii import keras2ascii\n",
        "keras2ascii(model)"
      ],
      "execution_count": null,
      "outputs": [
        {
          "output_type": "stream",
          "text": [
            "           OPERATION           DATA DIMENSIONS   WEIGHTS(N)   WEIGHTS(%)\n",
            "\n",
            "               Input   #####          11\n",
            "               Dense   XXXXX -------------------      1536    92.3%\n",
            "                relu   #####         128\n",
            "               Dense   XXXXX -------------------       129     7.7%\n",
            "             sigmoid   #####           1\n"
          ],
          "name": "stdout"
        }
      ]
    },
    {
      "cell_type": "code",
      "metadata": {
        "id": "qU2dlSJeJA8_"
      },
      "source": [
        ""
      ],
      "execution_count": null,
      "outputs": []
    }
  ]
}